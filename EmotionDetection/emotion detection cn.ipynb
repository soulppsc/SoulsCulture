{
 "cells": [
  {
   "cell_type": "code",
   "execution_count": 1,
   "id": "6c826d57",
   "metadata": {},
   "outputs": [
    {
     "name": "stderr",
     "output_type": "stream",
     "text": [
      "C:\\ProgramData\\Anaconda3\\lib\\site-packages\\transformers\\pipelines\\text_classification.py:105: UserWarning: `return_all_scores` is now deprecated,  if want a similar functionality use `top_k=None` instead of `return_all_scores=True` or `top_k=1` instead of `return_all_scores=False`.\n",
      "  warnings.warn(\n"
     ]
    }
   ],
   "source": [
    "from transformers import pipeline\n",
    "classifier = pipeline(\"text-classification\", model=\"touch20032003/xuyuan-trial-sentiment-bert-chinese\", return_all_scores=False, max_length=512, truncation=True)"
   ]
  },
  {
   "cell_type": "code",
   "execution_count": 2,
   "id": "cb6edd43",
   "metadata": {},
   "outputs": [
    {
     "name": "stderr",
     "output_type": "stream",
     "text": [
      "100%|██████████████████████████████████████████████████████████████████████████████| 4005/4005 [12:37<00:00,  5.29it/s]\n"
     ]
    },
    {
     "name": "stdout",
     "output_type": "stream",
     "text": [
      "{'anger': 1329, 'disgust': 726, 'fear': 21, 'like': 208, 'happiness': 162, 'none': 426, 'sadness': 1068, 'surprise': 65}\n",
      "4005\n"
     ]
    },
    {
     "name": "stderr",
     "output_type": "stream",
     "text": [
      "100%|████████████████████████████████████████████████████████████████████████████| 14166/14166 [53:33<00:00,  4.41it/s]\n"
     ]
    },
    {
     "name": "stdout",
     "output_type": "stream",
     "text": [
      "{'anger': 5205, 'disgust': 2905, 'fear': 61, 'like': 660, 'happiness': 467, 'none': 1101, 'sadness': 3374, 'surprise': 393}\n",
      "14166\n"
     ]
    },
    {
     "name": "stderr",
     "output_type": "stream",
     "text": [
      "100%|██████████████████████████████████████████████████████████████████████████████| 2950/2950 [11:17<00:00,  4.35it/s]\n"
     ]
    },
    {
     "name": "stdout",
     "output_type": "stream",
     "text": [
      "{'anger': 1090, 'disgust': 831, 'fear': 9, 'like': 124, 'happiness': 80, 'none': 197, 'sadness': 570, 'surprise': 49}\n",
      "2950\n"
     ]
    },
    {
     "name": "stderr",
     "output_type": "stream",
     "text": [
      "100%|██████████████████████████████████████████████████████████████████████████████| 2533/2533 [09:00<00:00,  4.69it/s]\n"
     ]
    },
    {
     "name": "stdout",
     "output_type": "stream",
     "text": [
      "{'anger': 919, 'disgust': 713, 'fear': 8, 'like': 109, 'happiness': 82, 'none': 180, 'sadness': 468, 'surprise': 54}\n",
      "2533\n"
     ]
    },
    {
     "name": "stderr",
     "output_type": "stream",
     "text": [
      "100%|██████████████████████████████████████████████████████████████████████████████| 9746/9746 [33:11<00:00,  4.89it/s]\n"
     ]
    },
    {
     "name": "stdout",
     "output_type": "stream",
     "text": [
      "{'anger': 3707, 'disgust': 2179, 'fear': 47, 'like': 486, 'happiness': 381, 'none': 700, 'sadness': 2019, 'surprise': 227}\n",
      "9746\n"
     ]
    },
    {
     "name": "stderr",
     "output_type": "stream",
     "text": [
      "100%|██████████████████████████████████████████████████████████████████████████████| 2817/2817 [09:22<00:00,  5.01it/s]\n"
     ]
    },
    {
     "name": "stdout",
     "output_type": "stream",
     "text": [
      "{'anger': 995, 'disgust': 809, 'fear': 12, 'like': 153, 'happiness': 75, 'none': 189, 'sadness': 515, 'surprise': 69}\n",
      "2817\n"
     ]
    },
    {
     "name": "stderr",
     "output_type": "stream",
     "text": [
      "100%|██████████████████████████████████████████████████████████████████████████████| 1053/1053 [03:22<00:00,  5.19it/s]\n"
     ]
    },
    {
     "name": "stdout",
     "output_type": "stream",
     "text": [
      "{'anger': 467, 'disgust': 145, 'fear': 4, 'like': 77, 'happiness': 40, 'none': 81, 'sadness': 199, 'surprise': 40}\n",
      "1053\n"
     ]
    },
    {
     "name": "stderr",
     "output_type": "stream",
     "text": [
      "100%|████████████████████████████████████████████████████████████████████████████████| 994/994 [04:03<00:00,  4.08it/s]\n"
     ]
    },
    {
     "name": "stdout",
     "output_type": "stream",
     "text": [
      "{'anger': 296, 'disgust': 322, 'fear': 7, 'like': 52, 'happiness': 21, 'none': 72, 'sadness': 202, 'surprise': 22}\n",
      "994\n"
     ]
    },
    {
     "name": "stderr",
     "output_type": "stream",
     "text": [
      "100%|██████████████████████████████████████████████████████████████████████████████| 2400/2400 [11:33<00:00,  3.46it/s]\n"
     ]
    },
    {
     "name": "stdout",
     "output_type": "stream",
     "text": [
      "{'anger': 761, 'disgust': 790, 'fear': 3, 'like': 113, 'happiness': 72, 'none': 144, 'sadness': 482, 'surprise': 35}\n",
      "2400\n"
     ]
    },
    {
     "name": "stderr",
     "output_type": "stream",
     "text": [
      "100%|████████████████████████████████████████████████████████████████████████████████| 970/970 [05:32<00:00,  2.92it/s]\n"
     ]
    },
    {
     "name": "stdout",
     "output_type": "stream",
     "text": [
      "{'anger': 298, 'disgust': 274, 'fear': 3, 'like': 43, 'happiness': 13, 'none': 57, 'sadness': 248, 'surprise': 34}\n",
      "970\n"
     ]
    },
    {
     "name": "stderr",
     "output_type": "stream",
     "text": [
      "100%|████████████████████████████████████████████████████████████████████████████████| 372/372 [01:54<00:00,  3.25it/s]\n"
     ]
    },
    {
     "name": "stdout",
     "output_type": "stream",
     "text": [
      "{'anger': 122, 'disgust': 120, 'fear': 1, 'like': 18, 'happiness': 9, 'none': 22, 'sadness': 67, 'surprise': 13}\n",
      "372\n"
     ]
    },
    {
     "name": "stderr",
     "output_type": "stream",
     "text": [
      "100%|████████████████████████████████████████████████████████████████████████████████| 525/525 [02:00<00:00,  4.35it/s]"
     ]
    },
    {
     "name": "stdout",
     "output_type": "stream",
     "text": [
      "{'anger': 174, 'disgust': 122, 'fear': 4, 'like': 29, 'happiness': 13, 'none': 33, 'sadness': 128, 'surprise': 22}\n",
      "525\n"
     ]
    },
    {
     "name": "stderr",
     "output_type": "stream",
     "text": [
      "\n"
     ]
    }
   ],
   "source": [
    "from steam_reviews import ReviewLoader\n",
    "from tqdm import tqdm\n",
    "import numpy as np\n",
    "import time\n",
    "\n",
    "appid_list = [\n",
    "# 211420,\n",
    "# 570940,\n",
    "# 236430,\n",
    "# 335300,\n",
    "# 374320,\n",
    "814380,\n",
    "1245620,\n",
    "485510,\n",
    "1325200,\n",
    "1448440,\n",
    "1172380,\n",
    "1774580,\n",
    "265300,\n",
    "678960,\n",
    "606280,\n",
    "378540,\n",
    "644830\n",
    "]\n",
    "\n",
    "# language_list = ['english', 'schinese', 'russian']\n",
    "language_list = ['schinese']\n",
    "\n",
    "for appid in appid_list:\n",
    "    for language in language_list:\n",
    "        file_path_n = 'reviews_' + str(appid) + '_' + language + '_n.json'\n",
    "        reviews_n = ReviewLoader().load_from_local(file_path_n)\n",
    "        \n",
    "        emotion_dict = {'anger': 0, 'disgust': 0, 'fear': 0, 'like': 0, 'happiness': 0, 'none': 0, 'sadness': 0, 'surprise': 0}\n",
    "        \n",
    "        review_list_n = reviews_n.review_list()\n",
    "        for review in tqdm(review_list_n):\n",
    "            reuslts = classifier(review)\n",
    "            emotion = reuslts[0]['label']\n",
    "            emotion_dict[emotion] += 1\n",
    "            \n",
    "        print(emotion_dict)\n",
    "        print(len(review_list_n))"
   ]
  }
 ],
 "metadata": {
  "kernelspec": {
   "display_name": "Python 3 (ipykernel)",
   "language": "python",
   "name": "python3"
  },
  "language_info": {
   "codemirror_mode": {
    "name": "ipython",
    "version": 3
   },
   "file_extension": ".py",
   "mimetype": "text/x-python",
   "name": "python",
   "nbconvert_exporter": "python",
   "pygments_lexer": "ipython3",
   "version": "3.9.17"
  }
 },
 "nbformat": 4,
 "nbformat_minor": 5
}
