{
 "cells": [
  {
   "cell_type": "code",
   "execution_count": 1,
   "id": "6c826d57",
   "metadata": {},
   "outputs": [
    {
     "name": "stderr",
     "output_type": "stream",
     "text": [
      "C:\\ProgramData\\Anaconda3\\lib\\site-packages\\transformers\\pipelines\\text_classification.py:105: UserWarning: `return_all_scores` is now deprecated,  if want a similar functionality use `top_k=None` instead of `return_all_scores=True` or `top_k=1` instead of `return_all_scores=False`.\n",
      "  warnings.warn(\n"
     ]
    }
   ],
   "source": [
    "from transformers import pipeline\n",
    "classifier = pipeline(\"text-classification\", model=\"Aniemore/rubert-tiny2-russian-emotion-detection\", return_all_scores=False, max_length=512, truncation=True)"
   ]
  },
  {
   "cell_type": "code",
   "execution_count": 2,
   "id": "cb6edd43",
   "metadata": {},
   "outputs": [
    {
     "name": "stderr",
     "output_type": "stream",
     "text": [
      "100%|████████████████████████████████████████████████████████████████████████████████| 607/607 [00:17<00:00, 35.44it/s]\n"
     ]
    },
    {
     "name": "stdout",
     "output_type": "stream",
     "text": [
      "{'anger': 184, 'disgust': 0, 'fear': 39, 'happiness': 59, 'neutral': 231, 'sadness': 61, 'enthusiasm': 33}\n",
      "607\n"
     ]
    },
    {
     "name": "stderr",
     "output_type": "stream",
     "text": [
      "100%|██████████████████████████████████████████████████████████████████████████████| 1004/1004 [00:36<00:00, 27.14it/s]\n"
     ]
    },
    {
     "name": "stdout",
     "output_type": "stream",
     "text": [
      "{'anger': 319, 'disgust': 0, 'fear': 42, 'happiness': 152, 'neutral': 356, 'sadness': 68, 'enthusiasm': 67}\n",
      "1004\n"
     ]
    },
    {
     "name": "stderr",
     "output_type": "stream",
     "text": [
      "100%|████████████████████████████████████████████████████████████████████████████████| 564/564 [00:17<00:00, 32.21it/s]\n"
     ]
    },
    {
     "name": "stdout",
     "output_type": "stream",
     "text": [
      "{'anger': 188, 'disgust': 0, 'fear': 28, 'happiness': 62, 'neutral': 186, 'sadness': 69, 'enthusiasm': 31}\n",
      "564\n"
     ]
    },
    {
     "name": "stderr",
     "output_type": "stream",
     "text": [
      "100%|██████████████████████████████████████████████████████████████████████████████| 1773/1773 [01:01<00:00, 28.85it/s]\n"
     ]
    },
    {
     "name": "stdout",
     "output_type": "stream",
     "text": [
      "{'anger': 618, 'disgust': 0, 'fear': 79, 'happiness': 207, 'neutral': 597, 'sadness': 162, 'enthusiasm': 110}\n",
      "1773\n"
     ]
    },
    {
     "name": "stderr",
     "output_type": "stream",
     "text": [
      "100%|██████████████████████████████████████████████████████████████████████████████| 2443/2443 [01:13<00:00, 33.40it/s]\n"
     ]
    },
    {
     "name": "stdout",
     "output_type": "stream",
     "text": [
      "{'anger': 752, 'disgust': 0, 'fear': 101, 'happiness': 333, 'neutral': 936, 'sadness': 188, 'enthusiasm': 133}\n",
      "2443\n"
     ]
    },
    {
     "name": "stderr",
     "output_type": "stream",
     "text": [
      "100%|████████████████████████████████████████████████████████████████████████████████| 683/683 [00:31<00:00, 21.98it/s]\n"
     ]
    },
    {
     "name": "stdout",
     "output_type": "stream",
     "text": [
      "{'anger': 205, 'disgust': 0, 'fear': 52, 'happiness': 96, 'neutral': 218, 'sadness': 59, 'enthusiasm': 53}\n",
      "683\n"
     ]
    },
    {
     "name": "stderr",
     "output_type": "stream",
     "text": [
      "100%|██████████████████████████████████████████████████████████████████████████████| 3406/3406 [01:56<00:00, 29.12it/s]\n"
     ]
    },
    {
     "name": "stdout",
     "output_type": "stream",
     "text": [
      "{'anger': 953, 'disgust': 0, 'fear': 153, 'happiness': 441, 'neutral': 1353, 'sadness': 276, 'enthusiasm': 230}\n",
      "3406\n"
     ]
    },
    {
     "name": "stderr",
     "output_type": "stream",
     "text": [
      "100%|████████████████████████████████████████████████████████████████████████████████| 397/397 [00:18<00:00, 21.06it/s]\n"
     ]
    },
    {
     "name": "stdout",
     "output_type": "stream",
     "text": [
      "{'anger': 117, 'disgust': 0, 'fear': 21, 'happiness': 53, 'neutral': 152, 'sadness': 25, 'enthusiasm': 29}\n",
      "397\n"
     ]
    },
    {
     "name": "stderr",
     "output_type": "stream",
     "text": [
      "100%|████████████████████████████████████████████████████████████████████████████████| 133/133 [00:04<00:00, 28.11it/s]\n"
     ]
    },
    {
     "name": "stdout",
     "output_type": "stream",
     "text": [
      "{'anger': 35, 'disgust': 0, 'fear': 9, 'happiness': 13, 'neutral': 48, 'sadness': 17, 'enthusiasm': 11}\n",
      "133\n"
     ]
    },
    {
     "name": "stderr",
     "output_type": "stream",
     "text": [
      "100%|██████████████████████████████████████████████████████████████████████████████████| 57/57 [00:02<00:00, 22.55it/s]\n"
     ]
    },
    {
     "name": "stdout",
     "output_type": "stream",
     "text": [
      "{'anger': 19, 'disgust': 0, 'fear': 8, 'happiness': 7, 'neutral': 16, 'sadness': 3, 'enthusiasm': 4}\n",
      "57\n"
     ]
    },
    {
     "name": "stderr",
     "output_type": "stream",
     "text": [
      "100%|████████████████████████████████████████████████████████████████████████████████| 878/878 [00:35<00:00, 24.53it/s]\n"
     ]
    },
    {
     "name": "stdout",
     "output_type": "stream",
     "text": [
      "{'anger': 228, 'disgust': 0, 'fear': 50, 'happiness': 124, 'neutral': 328, 'sadness': 87, 'enthusiasm': 61}\n",
      "878\n"
     ]
    },
    {
     "name": "stderr",
     "output_type": "stream",
     "text": [
      "100%|████████████████████████████████████████████████████████████████████████████████| 194/194 [00:04<00:00, 39.14it/s]\n"
     ]
    },
    {
     "name": "stdout",
     "output_type": "stream",
     "text": [
      "{'anger': 45, 'disgust': 0, 'fear': 15, 'happiness': 27, 'neutral': 69, 'sadness': 24, 'enthusiasm': 14}\n",
      "194\n"
     ]
    },
    {
     "name": "stderr",
     "output_type": "stream",
     "text": [
      "100%|████████████████████████████████████████████████████████████████████████████████| 943/943 [00:29<00:00, 31.93it/s]\n"
     ]
    },
    {
     "name": "stdout",
     "output_type": "stream",
     "text": [
      "{'anger': 259, 'disgust': 0, 'fear': 38, 'happiness': 115, 'neutral': 370, 'sadness': 105, 'enthusiasm': 56}\n",
      "943\n"
     ]
    },
    {
     "name": "stderr",
     "output_type": "stream",
     "text": [
      "100%|████████████████████████████████████████████████████████████████████████████████| 549/549 [00:26<00:00, 20.42it/s]\n"
     ]
    },
    {
     "name": "stdout",
     "output_type": "stream",
     "text": [
      "{'anger': 155, 'disgust': 0, 'fear': 30, 'happiness': 93, 'neutral': 172, 'sadness': 56, 'enthusiasm': 43}\n",
      "549\n"
     ]
    },
    {
     "name": "stderr",
     "output_type": "stream",
     "text": [
      "100%|████████████████████████████████████████████████████████████████████████████████| 414/414 [00:20<00:00, 20.19it/s]\n"
     ]
    },
    {
     "name": "stdout",
     "output_type": "stream",
     "text": [
      "{'anger': 141, 'disgust': 0, 'fear': 41, 'happiness': 49, 'neutral': 109, 'sadness': 57, 'enthusiasm': 17}\n",
      "414\n"
     ]
    },
    {
     "name": "stderr",
     "output_type": "stream",
     "text": [
      "100%|████████████████████████████████████████████████████████████████████████████████| 193/193 [00:08<00:00, 22.72it/s]\n"
     ]
    },
    {
     "name": "stdout",
     "output_type": "stream",
     "text": [
      "{'anger': 63, 'disgust': 0, 'fear': 14, 'happiness': 15, 'neutral': 77, 'sadness': 11, 'enthusiasm': 13}\n",
      "193\n"
     ]
    },
    {
     "name": "stderr",
     "output_type": "stream",
     "text": [
      "100%|████████████████████████████████████████████████████████████████████████████████| 124/124 [00:05<00:00, 23.46it/s]"
     ]
    },
    {
     "name": "stdout",
     "output_type": "stream",
     "text": [
      "{'anger': 33, 'disgust': 0, 'fear': 9, 'happiness': 12, 'neutral': 46, 'sadness': 12, 'enthusiasm': 12}\n",
      "124\n"
     ]
    },
    {
     "name": "stderr",
     "output_type": "stream",
     "text": [
      "\n"
     ]
    }
   ],
   "source": [
    "from steam_reviews import ReviewLoader\n",
    "from tqdm import tqdm\n",
    "import numpy as np\n",
    "import time\n",
    "\n",
    "appid_list = [\n",
    "211420,\n",
    "570940,\n",
    "236430,\n",
    "335300,\n",
    "374320,\n",
    "814380,\n",
    "1245620,\n",
    "485510,\n",
    "1325200,\n",
    "1448440,\n",
    "1172380,\n",
    "1774580,\n",
    "265300,\n",
    "678960,\n",
    "606280,\n",
    "378540,\n",
    "644830\n",
    "]\n",
    "\n",
    "# language_list = ['english', 'schinese', 'russian']\n",
    "language_list = ['russian']\n",
    "\n",
    "for appid in appid_list:\n",
    "    for language in language_list:\n",
    "        file_path_n = 'reviews_' + str(appid) + '_' + language + '_n.json'\n",
    "        reviews_n = ReviewLoader().load_from_local(file_path_n)\n",
    "        \n",
    "        emotion_dict = {'anger': 0, 'disgust': 0, 'fear': 0, 'happiness': 0, 'neutral': 0, 'sadness': 0, 'enthusiasm': 0}\n",
    "        \n",
    "        review_list_n = reviews_n.review_list()\n",
    "        for review in tqdm(review_list_n):\n",
    "            reuslts = classifier(review)\n",
    "            emotion = reuslts[0]['label']\n",
    "            emotion_dict[emotion] += 1\n",
    "            \n",
    "        print(emotion_dict)\n",
    "        print(len(review_list_n))"
   ]
  },
  {
   "cell_type": "code",
   "execution_count": 1,
   "id": "3ed72468",
   "metadata": {},
   "outputs": [
    {
     "name": "stderr",
     "output_type": "stream",
     "text": [
      "C:\\ProgramData\\Anaconda3\\lib\\site-packages\\transformers\\pipelines\\text_classification.py:105: UserWarning: `return_all_scores` is now deprecated,  if want a similar functionality use `top_k=None` instead of `return_all_scores=True` or `top_k=1` instead of `return_all_scores=False`.\n",
      "  warnings.warn(\n"
     ]
    }
   ],
   "source": [
    "from transformers import pipeline\n",
    "classifier = pipeline(\"text-classification\", model=\"Aniemore/rubert-large-emotion-russian-cedr-m7\", return_all_scores=False, max_length=512, truncation=True)"
   ]
  },
  {
   "cell_type": "code",
   "execution_count": 2,
   "id": "0c848ab6",
   "metadata": {},
   "outputs": [
    {
     "name": "stderr",
     "output_type": "stream",
     "text": [
      "100%|████████████████████████████████████████████████████████████████████████████████| 683/683 [17:59<00:00,  1.58s/it]\n"
     ]
    },
    {
     "name": "stdout",
     "output_type": "stream",
     "text": [
      "{'anger': 148, 'disgust': 0, 'fear': 0, 'happiness': 77, 'neutral': 271, 'sadness': 173, 'enthusiasm': 14}\n",
      "683\n"
     ]
    },
    {
     "name": "stderr",
     "output_type": "stream",
     "text": [
      "100%|████████████████████████████████████████████████████████████████████████████| 3406/3406 [1:07:23<00:00,  1.19s/it]\n"
     ]
    },
    {
     "name": "stdout",
     "output_type": "stream",
     "text": [
      "{'anger': 635, 'disgust': 0, 'fear': 8, 'happiness': 398, 'neutral': 1481, 'sadness': 807, 'enthusiasm': 77}\n",
      "3406\n"
     ]
    },
    {
     "name": "stderr",
     "output_type": "stream",
     "text": [
      "100%|████████████████████████████████████████████████████████████████████████████████| 397/397 [08:37<00:00,  1.30s/it]\n"
     ]
    },
    {
     "name": "stdout",
     "output_type": "stream",
     "text": [
      "{'anger': 86, 'disgust': 0, 'fear': 3, 'happiness': 46, 'neutral': 165, 'sadness': 85, 'enthusiasm': 12}\n",
      "397\n"
     ]
    },
    {
     "name": "stderr",
     "output_type": "stream",
     "text": [
      "100%|████████████████████████████████████████████████████████████████████████████████| 133/133 [02:47<00:00,  1.26s/it]\n"
     ]
    },
    {
     "name": "stdout",
     "output_type": "stream",
     "text": [
      "{'anger': 24, 'disgust': 0, 'fear': 0, 'happiness': 13, 'neutral': 58, 'sadness': 36, 'enthusiasm': 2}\n",
      "133\n"
     ]
    },
    {
     "name": "stderr",
     "output_type": "stream",
     "text": [
      "100%|██████████████████████████████████████████████████████████████████████████████████| 57/57 [01:18<00:00,  1.38s/it]\n"
     ]
    },
    {
     "name": "stdout",
     "output_type": "stream",
     "text": [
      "{'anger': 9, 'disgust': 0, 'fear': 0, 'happiness': 5, 'neutral': 27, 'sadness': 14, 'enthusiasm': 2}\n",
      "57\n"
     ]
    },
    {
     "name": "stderr",
     "output_type": "stream",
     "text": [
      "100%|████████████████████████████████████████████████████████████████████████████████| 878/878 [17:59<00:00,  1.23s/it]\n"
     ]
    },
    {
     "name": "stdout",
     "output_type": "stream",
     "text": [
      "{'anger': 162, 'disgust': 0, 'fear': 1, 'happiness': 93, 'neutral': 346, 'sadness': 264, 'enthusiasm': 12}\n",
      "878\n"
     ]
    },
    {
     "name": "stderr",
     "output_type": "stream",
     "text": [
      "100%|████████████████████████████████████████████████████████████████████████████████| 194/194 [02:57<00:00,  1.09it/s]\n"
     ]
    },
    {
     "name": "stdout",
     "output_type": "stream",
     "text": [
      "{'anger': 37, 'disgust': 0, 'fear': 2, 'happiness': 22, 'neutral': 86, 'sadness': 43, 'enthusiasm': 4}\n",
      "194\n"
     ]
    },
    {
     "name": "stderr",
     "output_type": "stream",
     "text": [
      "100%|████████████████████████████████████████████████████████████████████████████████| 943/943 [15:28<00:00,  1.02it/s]\n"
     ]
    },
    {
     "name": "stdout",
     "output_type": "stream",
     "text": [
      "{'anger': 196, 'disgust': 0, 'fear': 2, 'happiness': 77, 'neutral': 357, 'sadness': 298, 'enthusiasm': 13}\n",
      "943\n"
     ]
    },
    {
     "name": "stderr",
     "output_type": "stream",
     "text": [
      "100%|████████████████████████████████████████████████████████████████████████████████| 549/549 [12:32<00:00,  1.37s/it]\n"
     ]
    },
    {
     "name": "stdout",
     "output_type": "stream",
     "text": [
      "{'anger': 104, 'disgust': 0, 'fear': 0, 'happiness': 58, 'neutral': 243, 'sadness': 134, 'enthusiasm': 10}\n",
      "549\n"
     ]
    },
    {
     "name": "stderr",
     "output_type": "stream",
     "text": [
      "100%|████████████████████████████████████████████████████████████████████████████████| 414/414 [10:00<00:00,  1.45s/it]\n"
     ]
    },
    {
     "name": "stdout",
     "output_type": "stream",
     "text": [
      "{'anger': 78, 'disgust': 0, 'fear': 3, 'happiness': 49, 'neutral': 125, 'sadness': 154, 'enthusiasm': 5}\n",
      "414\n"
     ]
    },
    {
     "name": "stderr",
     "output_type": "stream",
     "text": [
      "100%|████████████████████████████████████████████████████████████████████████████████| 193/193 [04:12<00:00,  1.31s/it]\n"
     ]
    },
    {
     "name": "stdout",
     "output_type": "stream",
     "text": [
      "{'anger': 40, 'disgust': 0, 'fear': 0, 'happiness': 19, 'neutral': 77, 'sadness': 51, 'enthusiasm': 6}\n",
      "193\n"
     ]
    },
    {
     "name": "stderr",
     "output_type": "stream",
     "text": [
      "100%|████████████████████████████████████████████████████████████████████████████████| 124/124 [02:01<00:00,  1.02it/s]"
     ]
    },
    {
     "name": "stdout",
     "output_type": "stream",
     "text": [
      "{'anger': 28, 'disgust': 0, 'fear': 0, 'happiness': 8, 'neutral': 37, 'sadness': 46, 'enthusiasm': 5}\n",
      "124\n"
     ]
    },
    {
     "name": "stderr",
     "output_type": "stream",
     "text": [
      "\n"
     ]
    }
   ],
   "source": [
    "from steam_reviews import ReviewLoader\n",
    "from tqdm import tqdm\n",
    "import numpy as np\n",
    "import time\n",
    "\n",
    "appid_list = [\n",
    "# 211420,\n",
    "# 570940,\n",
    "# 236430,\n",
    "# 335300,\n",
    "# 374320,\n",
    "814380,\n",
    "1245620,\n",
    "485510,\n",
    "1325200,\n",
    "1448440,\n",
    "1172380,\n",
    "1774580,\n",
    "265300,\n",
    "678960,\n",
    "606280,\n",
    "378540,\n",
    "644830\n",
    "]\n",
    "\n",
    "# language_list = ['english', 'schinese', 'russian']\n",
    "language_list = ['russian']\n",
    "\n",
    "for appid in appid_list:\n",
    "    for language in language_list:\n",
    "        file_path_n = 'reviews_' + str(appid) + '_' + language + '_n.json'\n",
    "        reviews_n = ReviewLoader().load_from_local(file_path_n)\n",
    "        \n",
    "        emotion_dict = {'anger': 0, 'disgust': 0, 'fear': 0, 'happiness': 0, 'neutral': 0, 'sadness': 0, 'enthusiasm': 0}\n",
    "        \n",
    "        review_list_n = reviews_n.review_list()\n",
    "        for review in tqdm(review_list_n):\n",
    "            reuslts = classifier(review)\n",
    "            emotion = reuslts[0]['label']\n",
    "            emotion_dict[emotion] += 1\n",
    "            \n",
    "        print(emotion_dict)\n",
    "        print(len(review_list_n))"
   ]
  },
  {
   "cell_type": "code",
   "execution_count": null,
   "id": "8406c7f8",
   "metadata": {},
   "outputs": [],
   "source": []
  }
 ],
 "metadata": {
  "kernelspec": {
   "display_name": "Python 3 (ipykernel)",
   "language": "python",
   "name": "python3"
  },
  "language_info": {
   "codemirror_mode": {
    "name": "ipython",
    "version": 3
   },
   "file_extension": ".py",
   "mimetype": "text/x-python",
   "name": "python",
   "nbconvert_exporter": "python",
   "pygments_lexer": "ipython3",
   "version": "3.9.17"
  }
 },
 "nbformat": 4,
 "nbformat_minor": 5
}
