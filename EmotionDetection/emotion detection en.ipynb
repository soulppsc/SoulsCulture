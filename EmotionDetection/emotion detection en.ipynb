{
 "cells": [
  {
   "cell_type": "code",
   "execution_count": 1,
   "id": "de64fc3b",
   "metadata": {},
   "outputs": [
    {
     "name": "stderr",
     "output_type": "stream",
     "text": [
      "C:\\ProgramData\\Anaconda3\\lib\\site-packages\\transformers\\pipelines\\text_classification.py:105: UserWarning: `return_all_scores` is now deprecated,  if want a similar functionality use `top_k=None` instead of `return_all_scores=True` or `top_k=1` instead of `return_all_scores=False`.\n",
      "  warnings.warn(\n"
     ]
    }
   ],
   "source": [
    "from transformers import pipeline\n",
    "classifier = pipeline(\"text-classification\", model=\"j-hartmann/emotion-english-distilroberta-base\", return_all_scores=False, max_length=512, truncation=True)\n",
    "# classifier(\"I love this!\")\n"
   ]
  },
  {
   "cell_type": "code",
   "execution_count": 2,
   "id": "9704e51e",
   "metadata": {
    "scrolled": false
   },
   "outputs": [
    {
     "name": "stderr",
     "output_type": "stream",
     "text": [
      "100%|██████████████████████████████████████████████████████████████████████████████| 4474/4474 [10:30<00:00,  7.10it/s]\n"
     ]
    },
    {
     "name": "stdout",
     "output_type": "stream",
     "text": [
      "{'anger': 545, 'disgust': 1407, 'fear': 272, 'joy': 143, 'neutral': 1018, 'sadness': 915, 'surprise': 174}\n",
      "4474\n"
     ]
    },
    {
     "name": "stderr",
     "output_type": "stream",
     "text": [
      "100%|██████████████████████████████████████████████████████████████████████████████| 3877/3877 [10:59<00:00,  5.88it/s]\n"
     ]
    },
    {
     "name": "stdout",
     "output_type": "stream",
     "text": [
      "{'anger': 448, 'disgust': 926, 'fear': 92, 'joy': 162, 'neutral': 1343, 'sadness': 712, 'surprise': 194}\n",
      "3877\n"
     ]
    },
    {
     "name": "stderr",
     "output_type": "stream",
     "text": [
      "100%|██████████████████████████████████████████████████████████████████████████████| 2826/2826 [09:36<00:00,  4.90it/s]\n"
     ]
    },
    {
     "name": "stdout",
     "output_type": "stream",
     "text": [
      "{'anger': 362, 'disgust': 792, 'fear': 96, 'joy': 109, 'neutral': 857, 'sadness': 487, 'surprise': 123}\n",
      "2826\n"
     ]
    },
    {
     "name": "stderr",
     "output_type": "stream",
     "text": [
      "100%|██████████████████████████████████████████████████████████████████████████████| 6491/6491 [18:18<00:00,  5.91it/s]\n"
     ]
    },
    {
     "name": "stdout",
     "output_type": "stream",
     "text": [
      "{'anger': 758, 'disgust': 2266, 'fear': 212, 'joy': 182, 'neutral': 1759, 'sadness': 1121, 'surprise': 193}\n",
      "6491\n"
     ]
    },
    {
     "name": "stderr",
     "output_type": "stream",
     "text": [
      "100%|██████████████████████████████████████████████████████████████████████████████| 9030/9030 [21:23<00:00,  7.04it/s]\n"
     ]
    },
    {
     "name": "stdout",
     "output_type": "stream",
     "text": [
      "{'anger': 1254, 'disgust': 2078, 'fear': 299, 'joy': 326, 'neutral': 2710, 'sadness': 1929, 'surprise': 434}\n",
      "9030\n"
     ]
    },
    {
     "name": "stderr",
     "output_type": "stream",
     "text": [
      "100%|██████████████████████████████████████████████████████████████████████████████| 4477/4477 [12:52<00:00,  5.79it/s]\n"
     ]
    },
    {
     "name": "stdout",
     "output_type": "stream",
     "text": [
      "{'anger': 521, 'disgust': 1071, 'fear': 108, 'joy': 242, 'neutral': 1288, 'sadness': 1033, 'surprise': 214}\n",
      "4477\n"
     ]
    },
    {
     "name": "stderr",
     "output_type": "stream",
     "text": [
      "100%|██████████████████████████████████████████████████████████████████████████| 26597/26597 [1:07:55<00:00,  6.53it/s]\n"
     ]
    },
    {
     "name": "stdout",
     "output_type": "stream",
     "text": [
      "{'anger': 2554, 'disgust': 6074, 'fear': 950, 'joy': 1088, 'neutral': 7827, 'sadness': 6721, 'surprise': 1383}\n",
      "26597\n"
     ]
    },
    {
     "name": "stderr",
     "output_type": "stream",
     "text": [
      "100%|██████████████████████████████████████████████████████████████████████████████| 1680/1680 [05:55<00:00,  4.72it/s]\n"
     ]
    },
    {
     "name": "stdout",
     "output_type": "stream",
     "text": [
      "{'anger': 174, 'disgust': 476, 'fear': 74, 'joy': 70, 'neutral': 452, 'sadness': 367, 'surprise': 67}\n",
      "1680\n"
     ]
    },
    {
     "name": "stderr",
     "output_type": "stream",
     "text": [
      "100%|████████████████████████████████████████████████████████████████████████████████| 914/914 [02:55<00:00,  5.21it/s]\n"
     ]
    },
    {
     "name": "stdout",
     "output_type": "stream",
     "text": [
      "{'anger': 94, 'disgust': 260, 'fear': 27, 'joy': 29, 'neutral': 268, 'sadness': 200, 'surprise': 36}\n",
      "914\n"
     ]
    },
    {
     "name": "stderr",
     "output_type": "stream",
     "text": [
      "100%|██████████████████████████████████████████████████████████████████████████████| 1148/1148 [03:53<00:00,  4.92it/s]\n"
     ]
    },
    {
     "name": "stdout",
     "output_type": "stream",
     "text": [
      "{'anger': 70, 'disgust': 304, 'fear': 38, 'joy': 55, 'neutral': 350, 'sadness': 278, 'surprise': 53}\n",
      "1148\n"
     ]
    },
    {
     "name": "stderr",
     "output_type": "stream",
     "text": [
      "100%|██████████████████████████████████████████████████████████████████████████████| 7663/7663 [26:04<00:00,  4.90it/s]\n"
     ]
    },
    {
     "name": "stdout",
     "output_type": "stream",
     "text": [
      "{'anger': 631, 'disgust': 2087, 'fear': 226, 'joy': 402, 'neutral': 2233, 'sadness': 1763, 'surprise': 321}\n",
      "7663\n"
     ]
    },
    {
     "name": "stderr",
     "output_type": "stream",
     "text": [
      "100%|██████████████████████████████████████████████████████████████████████████████| 9824/9824 [22:54<00:00,  7.15it/s]\n"
     ]
    },
    {
     "name": "stdout",
     "output_type": "stream",
     "text": [
      "{'anger': 856, 'disgust': 1903, 'fear': 377, 'joy': 517, 'neutral': 2690, 'sadness': 2824, 'surprise': 657}\n",
      "9824\n"
     ]
    },
    {
     "name": "stderr",
     "output_type": "stream",
     "text": [
      "100%|██████████████████████████████████████████████████████████████████████████████| 3261/3261 [10:31<00:00,  5.16it/s]\n"
     ]
    },
    {
     "name": "stdout",
     "output_type": "stream",
     "text": [
      "{'anger': 253, 'disgust': 998, 'fear': 151, 'joy': 106, 'neutral': 758, 'sadness': 887, 'surprise': 108}\n",
      "3261\n"
     ]
    },
    {
     "name": "stderr",
     "output_type": "stream",
     "text": [
      "100%|██████████████████████████████████████████████████████████████████████████████| 2510/2510 [09:59<00:00,  4.19it/s]\n"
     ]
    },
    {
     "name": "stdout",
     "output_type": "stream",
     "text": [
      "{'anger': 145, 'disgust': 866, 'fear': 65, 'joy': 96, 'neutral': 727, 'sadness': 523, 'surprise': 88}\n",
      "2510\n"
     ]
    },
    {
     "name": "stderr",
     "output_type": "stream",
     "text": [
      "100%|██████████████████████████████████████████████████████████████████████████████| 1232/1232 [05:34<00:00,  3.69it/s]\n"
     ]
    },
    {
     "name": "stdout",
     "output_type": "stream",
     "text": [
      "{'anger': 108, 'disgust': 355, 'fear': 36, 'joy': 42, 'neutral': 300, 'sadness': 343, 'surprise': 48}\n",
      "1232\n"
     ]
    },
    {
     "name": "stderr",
     "output_type": "stream",
     "text": [
      "100%|██████████████████████████████████████████████████████████████████████████████| 1175/1175 [05:24<00:00,  3.62it/s]\n"
     ]
    },
    {
     "name": "stdout",
     "output_type": "stream",
     "text": [
      "{'anger': 114, 'disgust': 377, 'fear': 34, 'joy': 51, 'neutral': 287, 'sadness': 279, 'surprise': 33}\n",
      "1175\n"
     ]
    },
    {
     "name": "stderr",
     "output_type": "stream",
     "text": [
      "100%|████████████████████████████████████████████████████████████████████████████████| 631/631 [02:09<00:00,  4.89it/s]"
     ]
    },
    {
     "name": "stdout",
     "output_type": "stream",
     "text": [
      "{'anger': 46, 'disgust': 196, 'fear': 15, 'joy': 33, 'neutral': 146, 'sadness': 172, 'surprise': 23}\n",
      "631\n"
     ]
    },
    {
     "name": "stderr",
     "output_type": "stream",
     "text": [
      "\n"
     ]
    }
   ],
   "source": [
    "from steam_reviews import ReviewLoader\n",
    "from tqdm import tqdm\n",
    "import numpy as np\n",
    "import time\n",
    "\n",
    "appid_list = [\n",
    "211420,\n",
    "570940,\n",
    "236430,\n",
    "335300,\n",
    "374320,\n",
    "814380,\n",
    "1245620,\n",
    "485510,\n",
    "1325200,\n",
    "1448440,\n",
    "1172380,\n",
    "1774580,\n",
    "265300,\n",
    "678960,\n",
    "606280,\n",
    "378540,\n",
    "644830\n",
    "]\n",
    "\n",
    "# language_list = ['english', 'schinese', 'russian']\n",
    "language_list = ['english']\n",
    "\n",
    "for appid in appid_list:\n",
    "    for language in language_list:\n",
    "        file_path_n = 'reviews_' + str(appid) + '_' + language + '_n.json'\n",
    "        reviews_n = ReviewLoader().load_from_local(file_path_n)\n",
    "        \n",
    "        emotion_dict = {'anger': 0, 'disgust': 0, 'fear': 0, 'joy': 0, 'neutral': 0, 'sadness': 0, 'surprise': 0}\n",
    "        \n",
    "        review_list_n = reviews_n.review_list()\n",
    "        for review in tqdm(review_list_n):\n",
    "            reuslts = classifier(review)\n",
    "            emotion = reuslts[0]['label']\n",
    "            emotion_dict[emotion] += 1\n",
    "            \n",
    "        print(emotion_dict)\n",
    "        print(len(review_list_n))"
   ]
  },
  {
   "cell_type": "code",
   "execution_count": null,
   "id": "00af8391",
   "metadata": {},
   "outputs": [],
   "source": [
    "classifier(\"shit game!\")"
   ]
  },
  {
   "cell_type": "code",
   "execution_count": null,
   "id": "d0ba0de1",
   "metadata": {},
   "outputs": [],
   "source": [
    "score_list = [line['score'] for line in classifier(\"I love this!\")[0]]\n",
    "label = score_list.index(max(score_list))\n",
    "label"
   ]
  },
  {
   "cell_type": "code",
   "execution_count": null,
   "id": "d69e2c40",
   "metadata": {},
   "outputs": [],
   "source": [
    "numbers = [0, 3, 5, 1, 9, 2, 2, 1]\n",
    "min_index = numbers.index(min(numbers))\n",
    "print(min_index)"
   ]
  },
  {
   "cell_type": "code",
   "execution_count": 4,
   "id": "e037761b",
   "metadata": {},
   "outputs": [],
   "source": [
    "x = {}"
   ]
  },
  {
   "cell_type": "code",
   "execution_count": 5,
   "id": "5da2e1d0",
   "metadata": {},
   "outputs": [
    {
     "ename": "KeyError",
     "evalue": "'joy'",
     "output_type": "error",
     "traceback": [
      "\u001b[1;31m---------------------------------------------------------------------------\u001b[0m",
      "\u001b[1;31mKeyError\u001b[0m                                  Traceback (most recent call last)",
      "Cell \u001b[1;32mIn[5], line 1\u001b[0m\n\u001b[1;32m----> 1\u001b[0m x[\u001b[38;5;124m'\u001b[39m\u001b[38;5;124mjoy\u001b[39m\u001b[38;5;124m'\u001b[39m] \u001b[38;5;241m+\u001b[39m\u001b[38;5;241m=\u001b[39m \u001b[38;5;241m1\u001b[39m\n",
      "\u001b[1;31mKeyError\u001b[0m: 'joy'"
     ]
    }
   ],
   "source": [
    "x['joy'] += 1"
   ]
  },
  {
   "cell_type": "code",
   "execution_count": null,
   "id": "7ed8dab3",
   "metadata": {},
   "outputs": [],
   "source": []
  }
 ],
 "metadata": {
  "kernelspec": {
   "display_name": "Python 3 (ipykernel)",
   "language": "python",
   "name": "python3"
  },
  "language_info": {
   "codemirror_mode": {
    "name": "ipython",
    "version": 3
   },
   "file_extension": ".py",
   "mimetype": "text/x-python",
   "name": "python",
   "nbconvert_exporter": "python",
   "pygments_lexer": "ipython3",
   "version": "3.9.17"
  }
 },
 "nbformat": 4,
 "nbformat_minor": 5
}
